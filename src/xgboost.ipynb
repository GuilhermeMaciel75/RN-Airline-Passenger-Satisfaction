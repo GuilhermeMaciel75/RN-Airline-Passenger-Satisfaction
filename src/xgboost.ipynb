{
 "cells": [
  {
   "cell_type": "code",
   "execution_count": 4,
   "metadata": {},
   "outputs": [],
   "source": [
    "import xgboost as xgb\n",
    "import pandas as pd\n",
    "import numpy as np\n",
    "import matplotlib.pyplot as plt\n",
    "import seaborn as sns\n",
    "import os\n",
    "\n",
    "from sklearn.metrics import accuracy_score, recall_score, precision_score, f1_score, confusion_matrix, roc_curve, auc\n",
    "from sklearn.metrics import roc_auc_score, average_precision_score, RocCurveDisplay\n",
    "\n",
    "import scikitplot as skplt\n",
    "\n",
    "import optuna\n",
    "from optuna.trial import TrialState"
   ]
  },
  {
   "cell_type": "markdown",
   "metadata": {},
   "source": [
    "##### Carregando o dataset"
   ]
  },
  {
   "cell_type": "code",
   "execution_count": 5,
   "metadata": {},
   "outputs": [],
   "source": [
    "df_train = pd.read_csv('../data/treated_data/train.csv')\n",
    "df_val = pd.read_csv('../data/treated_data/validation.csv')\n",
    "df_test = pd.read_csv('../data/treated_data/test.csv')"
   ]
  },
  {
   "cell_type": "code",
   "execution_count": 6,
   "metadata": {},
   "outputs": [],
   "source": [
    "X_train = df_train.drop(['satisfaction'], axis=1)\n",
    "y_train = df_train['satisfaction'].values\n",
    "\n",
    "X_val = df_val.drop(['satisfaction'], axis=1)\n",
    "y_val = df_val['satisfaction'].values\n",
    "\n",
    "X_test = df_test.drop(['satisfaction'], axis=1)\n",
    "y_test = df_test['satisfaction'].values"
   ]
  },
  {
   "cell_type": "markdown",
   "metadata": {},
   "source": [
    "#### Declarando as funções de avaliação do modelo"
   ]
  },
  {
   "cell_type": "code",
   "execution_count": 7,
   "metadata": {},
   "outputs": [],
   "source": [
    "def plot_roc_curve(y_pred: np.array, y_test: np.array) -> None:\n",
    "    \n",
    "    # Obter as probabilidades da classe positiva\n",
    "    y_pred_positive = y_pred[:, 1]\n",
    "    \n",
    "    fpr, tpr, thresholds = roc_curve(y_test, y_pred_positive)\n",
    "    roc_auc = roc_auc_score(y_test, y_pred_positive)\n",
    "\n",
    "    plt.figure()\n",
    "    plt.plot(fpr, tpr, color='darkorange', lw=2, label=f'ROC curve (area = {roc_auc:.4f})' )\n",
    "    plt.plot([0, 1], [0, 1], color='navy', lw=2, linestyle='--')\n",
    "    plt.xlim([0.0, 1.0])\n",
    "    plt.ylim([0.0, 1.05])\n",
    "    plt.xlabel('False Positive Rate')\n",
    "    plt.ylabel('True Positive Rate')\n",
    "    plt.title('ROC Curve')\n",
    "    plt.legend(loc=\"lower right\")\n",
    "    plt.show()\n",
    "\n"
   ]
  },
  {
   "cell_type": "code",
   "execution_count": 8,
   "metadata": {},
   "outputs": [],
   "source": [
    "def plot_confusion_matrix(y_pred: np.array, y_test: np.array) -> None:\n",
    "    cm = confusion_matrix(y_test, y_pred)\n",
    "    plt.figure(figsize=(8, 6))\n",
    "    sns.heatmap(cm, annot=True, fmt='d', cmap='Blues', xticklabels=['Unsatisfied', 'Satisfied'], yticklabels=['Unsatisfied', 'Satisfied'])\n",
    "    plt.xlabel('Predicted')\n",
    "    plt.ylabel('True')\n",
    "    plt.title('Confusion Matrix')\n",
    "    plt.show()"
   ]
  },
  {
   "cell_type": "code",
   "execution_count": 9,
   "metadata": {},
   "outputs": [],
   "source": [
    "def compute_performance_metrics(y, y_pred_class, y_pred_scores=None):\n",
    "    accuracy = accuracy_score(y, y_pred_class)\n",
    "    recall = recall_score(y, y_pred_class)\n",
    "    precision = precision_score(y, y_pred_class)\n",
    "    f1 = f1_score(y, y_pred_class)\n",
    "    performance_metrics = (accuracy, recall, precision, f1)\n",
    "    if y_pred_scores is not None:\n",
    "        skplt.metrics.plot_ks_statistic(y, y_pred_scores)\n",
    "        plt.show()\n",
    "        y_pred_scores = y_pred_scores[:, 1]\n",
    "        auroc = roc_auc_score(y, y_pred_scores)\n",
    "        aupr = average_precision_score(y, y_pred_scores)\n",
    "        performance_metrics = performance_metrics + (auroc, aupr)\n",
    "    return performance_metrics"
   ]
  },
  {
   "cell_type": "code",
   "execution_count": 10,
   "metadata": {},
   "outputs": [],
   "source": [
    "def print_metrics_summary(accuracy, recall, precision, f1, auroc=None, aupr=None):\n",
    "    print()\n",
    "    print(\"{metric:<18}{value:.4f}\".format(metric=\"Accuracy:\", value=accuracy))\n",
    "    print(\"{metric:<18}{value:.4f}\".format(metric=\"Recall:\", value=recall))\n",
    "    print(\"{metric:<18}{value:.4f}\".format(metric=\"Precision:\", value=precision))\n",
    "    print(\"{metric:<18}{value:.4f}\".format(metric=\"F1:\", value=f1))\n",
    "    if auroc is not None:\n",
    "        print(\"{metric:<18}{value:.4f}\".format(metric=\"AUROC:\", value=auroc))\n",
    "    if aupr is not None:\n",
    "        print(\"{metric:<18}{value:.4f}\".format(metric=\"AUPR:\", value=aupr))"
   ]
  },
  {
   "cell_type": "markdown",
   "metadata": {},
   "source": [
    "##### Ajustando variáveis one-hot-encoding para string"
   ]
  },
  {
   "cell_type": "code",
   "execution_count": 11,
   "metadata": {},
   "outputs": [],
   "source": [
    "columns_to_concat = [\n",
    "    'Age',\n",
    "    'Flight Distance',\n",
    "    'Departure Delay in Minutes',\n",
    "    'Arrival Delay in Minutes',\n",
    "    'Gender',\n",
    "    'Customer Type',\n",
    "    'Type of Travel',\n",
    "    'Class'\n",
    "]"
   ]
  },
  {
   "cell_type": "code",
   "execution_count": 12,
   "metadata": {},
   "outputs": [],
   "source": [
    "def one_hot_to_string(df: pd.DataFrame, col: list) -> pd.DataFrame:\n",
    "    for prefix in col:\n",
    "        cols_to_concat = [c for c in df.columns if c.startswith(prefix + '_')]\n",
    "        \n",
    "        if cols_to_concat:\n",
    "            df[prefix] = df[cols_to_concat].astype(str).agg(''.join, axis=1)\n",
    "            \n",
    "            df.drop(cols_to_concat, axis=1, inplace=True)\n",
    "            \n",
    "    return df"
   ]
  },
  {
   "cell_type": "code",
   "execution_count": 13,
   "metadata": {},
   "outputs": [],
   "source": [
    "X_train = one_hot_to_string(df=X_train, col=columns_to_concat)\n",
    "X_val = one_hot_to_string(df=X_val, col=columns_to_concat)\n",
    "X_test = one_hot_to_string(df=X_test, col=columns_to_concat)"
   ]
  },
  {
   "cell_type": "code",
   "execution_count": 14,
   "metadata": {},
   "outputs": [
    {
     "data": {
      "text/plain": [
       "Index(['Inflight wifi service', 'Departure/Arrival time convenient',\n",
       "       'Ease of Online booking', 'Gate location', 'Food and drink',\n",
       "       'Online boarding', 'Seat comfort', 'Inflight entertainment',\n",
       "       'On-board service', 'Leg room service', 'Baggage handling',\n",
       "       'Checkin service', 'Inflight service', 'Cleanliness', 'Age',\n",
       "       'Flight Distance', 'Departure Delay in Minutes',\n",
       "       'Arrival Delay in Minutes', 'Gender', 'Customer Type', 'Type of Travel',\n",
       "       'Class'],\n",
       "      dtype='object')"
      ]
     },
     "execution_count": 14,
     "metadata": {},
     "output_type": "execute_result"
    }
   ],
   "source": [
    "X_train.columns"
   ]
  },
  {
   "cell_type": "code",
   "execution_count": 15,
   "metadata": {},
   "outputs": [],
   "source": [
    "X_train = X_train.values\n",
    "X_val = X_val.values\n",
    "X_test = X_test.values"
   ]
  },
  {
   "cell_type": "markdown",
   "metadata": {},
   "source": [
    "##### Criando o modelo xgboost base\n",
    "\n",
    "Utilizaremos configurações similares a configuração base do random forest, para comparação"
   ]
  },
  {
   "cell_type": "code",
   "execution_count": 16,
   "metadata": {},
   "outputs": [],
   "source": [
    "params = {\n",
    "    'max_depth': 10,\n",
    "    'eta': 0.1,  #Learning Rate\n",
    "    'objective': 'binary:logistic', # Escolha para classificação binária\n",
    "    'eval_metric': 'auc'            # Avaliando via AUC\n",
    "}"
   ]
  },
  {
   "cell_type": "markdown",
   "metadata": {},
   "source": [
    "##### Criando instância DMatrix"
   ]
  },
  {
   "cell_type": "code",
   "execution_count": 18,
   "metadata": {},
   "outputs": [],
   "source": [
    "dtrain = xgb.DMatrix(X_train, label=y_train)\n",
    "dval = xgb.DMatrix(X_val, label=y_val)\n",
    "dtest = xgb.DMatrix(X_test, label=y_test)"
   ]
  },
  {
   "cell_type": "code",
   "execution_count": 21,
   "metadata": {},
   "outputs": [
    {
     "name": "stdout",
     "output_type": "stream",
     "text": [
      "[0]\tvalidation-auc:0.98732\n",
      "[1]\tvalidation-auc:0.98779\n",
      "[2]\tvalidation-auc:0.98877\n",
      "[3]\tvalidation-auc:0.98898\n",
      "[4]\tvalidation-auc:0.98917\n",
      "[5]\tvalidation-auc:0.98932\n",
      "[6]\tvalidation-auc:0.98960\n",
      "[7]\tvalidation-auc:0.98976\n",
      "[8]\tvalidation-auc:0.99003\n",
      "[9]\tvalidation-auc:0.99028\n",
      "[10]\tvalidation-auc:0.99051\n",
      "[11]\tvalidation-auc:0.99060\n",
      "[12]\tvalidation-auc:0.99083\n",
      "[13]\tvalidation-auc:0.99097\n",
      "[14]\tvalidation-auc:0.99113\n",
      "[15]\tvalidation-auc:0.99124\n",
      "[16]\tvalidation-auc:0.99158\n",
      "[17]\tvalidation-auc:0.99179\n",
      "[18]\tvalidation-auc:0.99194\n",
      "[19]\tvalidation-auc:0.99204\n",
      "[20]\tvalidation-auc:0.99219\n",
      "[21]\tvalidation-auc:0.99229\n",
      "[22]\tvalidation-auc:0.99244\n",
      "[23]\tvalidation-auc:0.99254\n",
      "[24]\tvalidation-auc:0.99262\n",
      "[25]\tvalidation-auc:0.99268\n",
      "[26]\tvalidation-auc:0.99275\n",
      "[27]\tvalidation-auc:0.99281\n",
      "[28]\tvalidation-auc:0.99289\n",
      "[29]\tvalidation-auc:0.99293\n",
      "[30]\tvalidation-auc:0.99299\n",
      "[31]\tvalidation-auc:0.99303\n",
      "[32]\tvalidation-auc:0.99306\n",
      "[33]\tvalidation-auc:0.99308\n",
      "[34]\tvalidation-auc:0.99313\n",
      "[35]\tvalidation-auc:0.99314\n",
      "[36]\tvalidation-auc:0.99317\n",
      "[37]\tvalidation-auc:0.99323\n",
      "[38]\tvalidation-auc:0.99326\n",
      "[39]\tvalidation-auc:0.99329\n",
      "[40]\tvalidation-auc:0.99330\n",
      "[41]\tvalidation-auc:0.99333\n",
      "[42]\tvalidation-auc:0.99335\n",
      "[43]\tvalidation-auc:0.99335\n",
      "[44]\tvalidation-auc:0.99338\n",
      "[45]\tvalidation-auc:0.99340\n",
      "[46]\tvalidation-auc:0.99349\n",
      "[47]\tvalidation-auc:0.99355\n",
      "[48]\tvalidation-auc:0.99362\n",
      "[49]\tvalidation-auc:0.99367\n"
     ]
    }
   ],
   "source": [
    "model = xgb.train(params, dtrain, 50, evals=[(dval, 'validation')], early_stopping_rounds=5)\n"
   ]
  },
  {
   "cell_type": "markdown",
   "metadata": {},
   "source": [
    "#### Avaliando o Modelo\n"
   ]
  },
  {
   "cell_type": "code",
   "execution_count": 39,
   "metadata": {},
   "outputs": [],
   "source": [
    "xgb_pred_scores = model.predict(dtest)\n",
    "\n",
    "# Calculando a probabilidade da classe negativa\n",
    "neg_class_probs = 1 - xgb_pred_scores\n",
    "\n",
    "# Concatenando as duas arrays para formar um array 2D\n",
    "xgb_pred_scores = np.vstack((neg_class_probs, xgb_pred_scores)).T\n",
    "xgb_pred_class = np.argmax(xgb_pred_scores, axis=1)"
   ]
  },
  {
   "cell_type": "code",
   "execution_count": 42,
   "metadata": {},
   "outputs": [
    {
     "data": {
      "image/png": "[encoded data removed]",
      "text/plain": [
       "<Figure size 640x480 with 1 Axes>"
      ]
     },
     "metadata": {},
     "output_type": "display_data"
    },
    {
     "name": "stdout",
     "output_type": "stream",
     "text": [
      "\n",
      "\n",
      "xgboost - Test\n",
      "\n",
      "Accuracy:         0.9599\n",
      "Recall:           0.9445\n",
      "Precision:        0.9625\n",
      "F1:               0.9534\n",
      "AUROC:            0.9942\n",
      "AUPR:             0.9932\n"
     ]
    }
   ],
   "source": [
    "accuracy, recall, precision, f1, auroc, aupr = compute_performance_metrics(y_test, xgb_pred_class, xgb_pred_scores)\n",
    "print('\\n\\nxgboost - Test')\n",
    "print_metrics_summary(accuracy, recall, precision, f1, auroc, aupr)"
   ]
  }
 ],
 "metadata": {
  "kernelspec": {
   "display_name": "Python 3",
   "language": "python",
   "name": "python3"
  },
  "language_info": {
   "codemirror_mode": {
    "name": "ipython",
    "version": 3
   },
   "file_extension": ".py",
   "mimetype": "text/x-python",
   "name": "python",
   "nbconvert_exporter": "python",
   "pygments_lexer": "ipython3",
   "version": "3.10.12"
  }
 },
 "nbformat": 4,
 "nbformat_minor": 2
}
